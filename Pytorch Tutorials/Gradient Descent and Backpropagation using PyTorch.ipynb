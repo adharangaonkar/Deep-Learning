{
 "cells": [
  {
   "cell_type": "markdown",
   "metadata": {},
   "source": [
    "## Gradient Descent and Backpropagation process"
   ]
  },
  {
   "cell_type": "markdown",
   "metadata": {},
   "source": [
    "1. Design Model (input, output size, forward pass)<br>\n",
    "2. Construct loss and optimizer<br>\n",
    "3. Training loop\n",
    "    - forward pass: compute predictions<br>\n",
    "    - bakcward pass: gradients<br>\n",
    "    - update weights<br>"
   ]
  },
  {
   "cell_type": "code",
   "execution_count": 24,
   "metadata": {},
   "outputs": [],
   "source": [
    "import torch\n",
    "import torch.nn as nn"
   ]
  },
  {
   "cell_type": "code",
   "execution_count": 25,
   "metadata": {},
   "outputs": [],
   "source": [
    "X = torch.tensor([[1],[2],[3],[4]], dtype = torch.float32)\n",
    "Y = torch.tensor([[2],[4],[6],[8]], dtype = torch.float32)"
   ]
  },
  {
   "cell_type": "code",
   "execution_count": 26,
   "metadata": {},
   "outputs": [
    {
     "name": "stdout",
     "output_type": "stream",
     "text": [
      "4 1\n"
     ]
    }
   ],
   "source": [
    "n_samples, n_features = X.shape\n",
    "print(n_samples, n_features)"
   ]
  },
  {
   "cell_type": "code",
   "execution_count": 27,
   "metadata": {},
   "outputs": [],
   "source": [
    "# w = torch.tensor(0.0, dtype= torch.float32, requires_grad = True)"
   ]
  },
  {
   "cell_type": "code",
   "execution_count": 28,
   "metadata": {},
   "outputs": [],
   "source": [
    "# def forward(x):\n",
    "#     return w*x"
   ]
  },
  {
   "cell_type": "code",
   "execution_count": 29,
   "metadata": {},
   "outputs": [],
   "source": [
    "X_test = torch.tensor([5], dtype=torch.float32)"
   ]
  },
  {
   "cell_type": "code",
   "execution_count": 30,
   "metadata": {},
   "outputs": [],
   "source": [
    "input_size = n_features\n",
    "output_size = n_features\n",
    "model = nn.Linear(input_size, output_size)"
   ]
  },
  {
   "cell_type": "code",
   "execution_count": 31,
   "metadata": {},
   "outputs": [
    {
     "name": "stdout",
     "output_type": "stream",
     "text": [
      "Prediction before training: f(5) = 1.044\n"
     ]
    }
   ],
   "source": [
    "print(f'Prediction before training: f(5) = {model(X_test).item():.3f}')"
   ]
  },
  {
   "cell_type": "code",
   "execution_count": 32,
   "metadata": {},
   "outputs": [
    {
     "name": "stdout",
     "output_type": "stream",
     "text": [
      "epoch 1: w = 3.220, loss = 27.16815567\n",
      "epoch 3: w = 2.586, loss = 5.48279762\n",
      "epoch 5: w = 2.298, loss = 1.11066461\n",
      "epoch 7: w = 2.167, loss = 0.22868878\n",
      "epoch 9: w = 2.106, loss = 0.05034746\n",
      "epoch 11: w = 2.077, loss = 0.01391011\n",
      "epoch 13: w = 2.062, loss = 0.00613438\n",
      "epoch 15: w = 2.054, loss = 0.00418562\n",
      "epoch 17: w = 2.049, loss = 0.00345513\n",
      "epoch 19: w = 2.045, loss = 0.00300894\n",
      "epoch 21: w = 2.042, loss = 0.00265426\n",
      "epoch 23: w = 2.039, loss = 0.00234833\n",
      "epoch 25: w = 2.037, loss = 0.00207907\n",
      "epoch 27: w = 2.035, loss = 0.00184096\n",
      "epoch 29: w = 2.033, loss = 0.00163019\n",
      "epoch 31: w = 2.031, loss = 0.00144355\n",
      "epoch 33: w = 2.029, loss = 0.00127829\n",
      "epoch 35: w = 2.027, loss = 0.00113194\n",
      "epoch 37: w = 2.026, loss = 0.00100235\n",
      "epoch 39: w = 2.024, loss = 0.00088760\n",
      "epoch 41: w = 2.023, loss = 0.00078597\n",
      "epoch 43: w = 2.021, loss = 0.00069600\n",
      "epoch 45: w = 2.020, loss = 0.00061632\n",
      "epoch 47: w = 2.019, loss = 0.00054576\n",
      "epoch 49: w = 2.018, loss = 0.00048327\n",
      "epoch 51: w = 2.017, loss = 0.00042795\n",
      "epoch 53: w = 2.016, loss = 0.00037896\n",
      "epoch 55: w = 2.015, loss = 0.00033557\n",
      "epoch 57: w = 2.014, loss = 0.00029715\n",
      "epoch 59: w = 2.013, loss = 0.00026313\n",
      "epoch 61: w = 2.012, loss = 0.00023301\n",
      "epoch 63: w = 2.012, loss = 0.00020633\n",
      "epoch 65: w = 2.011, loss = 0.00018271\n",
      "epoch 67: w = 2.010, loss = 0.00016179\n",
      "epoch 69: w = 2.010, loss = 0.00014327\n",
      "epoch 71: w = 2.009, loss = 0.00012687\n",
      "epoch 73: w = 2.009, loss = 0.00011234\n",
      "epoch 75: w = 2.008, loss = 0.00009948\n",
      "epoch 77: w = 2.008, loss = 0.00008810\n",
      "epoch 79: w = 2.007, loss = 0.00007801\n",
      "epoch 81: w = 2.007, loss = 0.00006908\n",
      "epoch 83: w = 2.006, loss = 0.00006117\n",
      "epoch 85: w = 2.006, loss = 0.00005417\n",
      "epoch 87: w = 2.006, loss = 0.00004797\n",
      "epoch 89: w = 2.005, loss = 0.00004247\n",
      "epoch 91: w = 2.005, loss = 0.00003761\n",
      "epoch 93: w = 2.005, loss = 0.00003330\n",
      "epoch 95: w = 2.004, loss = 0.00002949\n",
      "epoch 97: w = 2.004, loss = 0.00002612\n",
      "epoch 99: w = 2.004, loss = 0.00002313\n",
      "Prediction after training: f(5) = 10.008\n"
     ]
    }
   ],
   "source": [
    "# Training\n",
    "learning_rate = 0.1\n",
    "n_iters = 100\n",
    "loss = nn.MSELoss()\n",
    "optimizer = torch.optim.SGD(model.parameters(), lr = learning_rate)\n",
    "\n",
    "for epoch in range(n_iters):\n",
    "    # predict = forward pass\n",
    "    y_pred = model(X)\n",
    "\n",
    "    # loss\n",
    "    l = loss(Y, y_pred)\n",
    "    \n",
    "    #gradient = backward pass\n",
    "    l.backward() #dl/dw\n",
    "\n",
    "    # update weights\n",
    "    optimizer.step()\n",
    "        \n",
    "    #zero gradients\n",
    "    optimizer.zero_grad()\n",
    "    \n",
    "    if epoch % 2 == 0:\n",
    "        [w, b] = model.parameters()\n",
    "        print(f'epoch {epoch+1}: w = {w[0][0].item():.3f}, loss = {l:.8f}')\n",
    "print(f'Prediction after training: f(5) = {model(X_test).item():.3f}') "
   ]
  },
  {
   "cell_type": "code",
   "execution_count": null,
   "metadata": {},
   "outputs": [],
   "source": []
  }
 ],
 "metadata": {
  "kernelspec": {
   "display_name": "Python 3",
   "language": "python",
   "name": "python3"
  },
  "language_info": {
   "codemirror_mode": {
    "name": "ipython",
    "version": 3
   },
   "file_extension": ".py",
   "mimetype": "text/x-python",
   "name": "python",
   "nbconvert_exporter": "python",
   "pygments_lexer": "ipython3",
   "version": "3.7.9"
  }
 },
 "nbformat": 4,
 "nbformat_minor": 4
}
